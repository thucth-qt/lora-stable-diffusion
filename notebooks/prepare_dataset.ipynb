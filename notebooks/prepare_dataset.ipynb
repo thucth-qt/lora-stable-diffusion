{
 "cells": [
  {
   "cell_type": "code",
   "execution_count": 4,
   "metadata": {},
   "outputs": [],
   "source": [
    "import cv2 \n",
    "import numpy as np \n",
    "from glob import glob \n",
    "import os \n",
    "ds_path = \"/home/thucth/thucth_dev/SD/lora/Van\"\n",
    "os.makedirs(ds_path+\"_cropped\", exist_ok=True)\n",
    "img_paths = glob(f\"{ds_path}/*\")\n",
    "for img_path in img_paths:\n",
    "    img = cv2.imread(img_path)\n",
    "    img = img[:,:,:3]\n",
    "    img = cv2.cvtColor(img, cv2.COLOR_BGR2RGB)\n",
    "    w,h = img.shape[:2]\n",
    "    min_len = min(w,h)\n",
    "    #resize and crop to 512 \n",
    "    ratio  = min_len/512\n",
    "    img = cv2.resize(img, None, None, 1/ratio, 1/ratio)\n",
    "    w,h = img.shape[:2]\n",
    "    img = img[(w-512)//2:(w-512)//2+512, (h-512)//2:(h-512)//2+512,:]\n",
    "    cv2.imwrite(img_path.replace(\"Van\", \"Van_cropped\"), img[:,:,::-1])\n"
   ]
  }
 ],
 "metadata": {
  "kernelspec": {
   "display_name": "lora_training",
   "language": "python",
   "name": "python3"
  },
  "language_info": {
   "codemirror_mode": {
    "name": "ipython",
    "version": 3
   },
   "file_extension": ".py",
   "mimetype": "text/x-python",
   "name": "python",
   "nbconvert_exporter": "python",
   "pygments_lexer": "ipython3",
   "version": "3.9.18"
  }
 },
 "nbformat": 4,
 "nbformat_minor": 2
}
